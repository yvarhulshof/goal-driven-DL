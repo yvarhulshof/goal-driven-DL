{
 "cells": [
  {
   "cell_type": "markdown",
   "id": "110032bc",
   "metadata": {
    "id": "110032bc"
   },
   "source": [
    "# Session 6: Goal-Driven Deep Learning\n",
    "\n",
    "## About this tutorial\n",
    "In the lecture you have seen how deep learning can be used to model brain regions and functions. This is motivated by the fact that deep neural networks (DNNs) combine brain inspired computational principles with hitherto unseen effectiveness at solving perceptual and motor tasks. This renders DNNs well suited to uncover the kinds of representations and computations that may underlie complex, high-level functions of biological systems. As such, biologically plausible DNNs can be used as generative models to formulate new hypothesis about brain functionality. Furthermore, DNNs can be used for testing hypotheses in neuroscience in silico by training them on ecologically relevant tasks and subsequently exposing them to stimuli used in neuroscientific experimentation. However, while DNNS are biologically inspired, they are not yet particularly biologically realistic. \n",
    "\n",
    "In this tutorial we will address one shortcoming of DNNs, their activation functions are not particularly biologically plausible. Real neurons use discrete spikes whereas DNN units have continuous activation functions. Given what you learned last week, it should nevertheless be possible to train a DNN with a spiking-neuron activation function. This is what you will do in this tutorial. This tutorial constitutes your third formative assessment and you have time to finish it until 6pm on October 11. A solution will become available after that deadline."
   ]
  },
  {
   "cell_type": "markdown",
   "id": "28619bac",
   "metadata": {
    "id": "28619bac"
   },
   "source": [
    "## Spiking Activation Function\n",
    "To make a deep neural network spiking, we will utilize an approach put forth by [Hunsberger & Eliasmith (2015)](https://arxiv.org/abs/1510.08829). These authors used the steady-state firing rate of leaky integrate-and-fire (LIF) neurons as activation functions in their neural networks. The steady state firing rate of a LIF neuron can be derived analytically. We start with a simplified neuron model (reversal potential is set to $0$ & conductance is set to $1$):\n",
    "\n",
    "$$\n",
    "\\tau_m \\dot{V} = -V + I\n",
    "$$\n",
    "\n",
    "where $\\tau_m$ is the membrane time constant and $I$ is a constant input current, the steady-state firing rate is given by\n",
    "\n",
    "$$\n",
    "G \\left( I \\right) = \\begin{cases}\n",
    "        \\left[ \\tau_{ref} - \\tau_m \\ln \\left( 1 - \\frac{V_{thr}}{I} \\right) \\right]^{-1}, & \\text{if } I > V_{thr}\\\\\n",
    "        0 & \\text{otherwise}\n",
    "        \\end{cases}\n",
    "$$\n",
    "\n",
    "where $\\tau_{ref}$ is the refactory period and $V_the$ is the threshold. \n",
    "\n",
    "The LIF steady state firing rate has the particular problem that its derivative approaches infinity as $I$ approaches zero from above. This causes problems when employing backpropagation but can be addressed by slightly adjusting the firing rate equation to smooth it out. The equation above can be re-written like this:\n",
    "\n",
    "$$\n",
    "G \\left( I \\right) = \\left[ \\tau_{ref} + \\tau_m \\ln \\left( 1 + \\frac{V_{thr}}{\\rho \\left( I - V_{thr} \\right)} \\right) \\right]^{-1}\n",
    "$$\n",
    "\n",
    "where $\\rho (x) = \\max(x,0)$. If we replace this hard maximum with a softer maximum $\\rho (x) = \\ln\\left( 1 + e^x  \\right)$, then the LIF neuron loses its hard threshold and the derivative becomes bounded. This will be the LIF-based activation function for our spiking DNN."
   ]
  },
  {
   "cell_type": "markdown",
   "id": "dcfd54f2",
   "metadata": {
    "id": "dcfd54f2"
   },
   "source": [
    "## Deep Learning with PyTorch\n",
    "\n",
    "Before you can start building and training a spiking DNN, you should first have a look at how to build and train any neural network using machine learning libraries like [PyTorch](https://pytorch.org/) or [TensorFlow](https://www.tensorflow.org/). In the present session, we will use the former. \n",
    "\n",
    "In this section, we run through the API for common tasks in deep learning. \n",
    "\n",
    "### Working with data\n",
    "\n",
    "PyTorch has two primitives to work with data: `torch.utils.data.DataLoader` and `torch.utils.data.Dataset`. `Dataset ` stores the samples and their corresponding labels, and `DataLoader` wraps an iterable around the `Dataset`."
   ]
  },
  {
   "cell_type": "code",
   "execution_count": 1,
   "id": "f908a65d",
   "metadata": {
    "id": "f908a65d"
   },
   "outputs": [],
   "source": [
    "import torch\n",
    "from torch import nn\n",
    "from torch.utils.data import DataLoader\n",
    "from torchvision import datasets\n",
    "from torchvision.transforms import ToTensor"
   ]
  },
  {
   "cell_type": "markdown",
   "id": "fa03ae76",
   "metadata": {
    "id": "fa03ae76"
   },
   "source": [
    "PyTorch offers domain-specific libraries which include datasets. For this tutorial, we will be using the `TorchVision` dataset library.\n",
    "\n",
    "The `torchvision.datasets` module contains `Dataset` objects for many real-world vision data like CIFAR. Here, we use the FashionMNIST dataset. Every TorchVision `Dataset` includes two arguments: `transform` and `target_transform` to modify the samples and labels respectively."
   ]
  },
  {
   "cell_type": "code",
   "execution_count": 2,
   "id": "5a70ebe8",
   "metadata": {
    "id": "5a70ebe8"
   },
   "outputs": [
    {
     "name": "stderr",
     "output_type": "stream",
     "text": [
      "1.1%"
     ]
    },
    {
     "name": "stdout",
     "output_type": "stream",
     "text": [
      "Downloading http://fashion-mnist.s3-website.eu-central-1.amazonaws.com/train-images-idx3-ubyte.gz\n",
      "Downloading http://fashion-mnist.s3-website.eu-central-1.amazonaws.com/train-images-idx3-ubyte.gz to data/FashionMNIST/raw/train-images-idx3-ubyte.gz\n"
     ]
    },
    {
     "name": "stderr",
     "output_type": "stream",
     "text": [
      "100.0%\n"
     ]
    },
    {
     "name": "stdout",
     "output_type": "stream",
     "text": [
      "Extracting data/FashionMNIST/raw/train-images-idx3-ubyte.gz to data/FashionMNIST/raw\n"
     ]
    },
    {
     "name": "stderr",
     "output_type": "stream",
     "text": [
      "100.0%"
     ]
    },
    {
     "name": "stdout",
     "output_type": "stream",
     "text": [
      "\n",
      "Downloading http://fashion-mnist.s3-website.eu-central-1.amazonaws.com/train-labels-idx1-ubyte.gz\n",
      "Downloading http://fashion-mnist.s3-website.eu-central-1.amazonaws.com/train-labels-idx1-ubyte.gz to data/FashionMNIST/raw/train-labels-idx1-ubyte.gz\n",
      "Extracting data/FashionMNIST/raw/train-labels-idx1-ubyte.gz to data/FashionMNIST/raw\n",
      "\n",
      "Downloading http://fashion-mnist.s3-website.eu-central-1.amazonaws.com/t10k-images-idx3-ubyte.gz\n"
     ]
    },
    {
     "name": "stderr",
     "output_type": "stream",
     "text": [
      "\n",
      "1.5%"
     ]
    },
    {
     "name": "stdout",
     "output_type": "stream",
     "text": [
      "Downloading http://fashion-mnist.s3-website.eu-central-1.amazonaws.com/t10k-images-idx3-ubyte.gz to data/FashionMNIST/raw/t10k-images-idx3-ubyte.gz\n"
     ]
    },
    {
     "name": "stderr",
     "output_type": "stream",
     "text": [
      "100.0%\n"
     ]
    },
    {
     "name": "stdout",
     "output_type": "stream",
     "text": [
      "Extracting data/FashionMNIST/raw/t10k-images-idx3-ubyte.gz to data/FashionMNIST/raw\n",
      "\n",
      "Downloading http://fashion-mnist.s3-website.eu-central-1.amazonaws.com/t10k-labels-idx1-ubyte.gz\n",
      "Downloading http://fashion-mnist.s3-website.eu-central-1.amazonaws.com/t10k-labels-idx1-ubyte.gz to data/FashionMNIST/raw/t10k-labels-idx1-ubyte.gz\n"
     ]
    },
    {
     "name": "stderr",
     "output_type": "stream",
     "text": [
      "100.0%"
     ]
    },
    {
     "name": "stdout",
     "output_type": "stream",
     "text": [
      "Extracting data/FashionMNIST/raw/t10k-labels-idx1-ubyte.gz to data/FashionMNIST/raw\n",
      "\n"
     ]
    },
    {
     "name": "stderr",
     "output_type": "stream",
     "text": [
      "\n"
     ]
    }
   ],
   "source": [
    "# Download training data from open datasets.\n",
    "training_data = datasets.FashionMNIST(\n",
    "    root=\"data\",\n",
    "    train=True,\n",
    "    download=True,\n",
    "    transform=ToTensor(),\n",
    ")\n",
    "\n",
    "# Download test data from open datasets.\n",
    "test_data = datasets.FashionMNIST(\n",
    "    root=\"data\",\n",
    "    train=False,\n",
    "    download=True,\n",
    "    transform=ToTensor(),\n",
    ")"
   ]
  },
  {
   "cell_type": "markdown",
   "id": "d9364536",
   "metadata": {
    "id": "d9364536"
   },
   "source": [
    "We pass the `Dataset` as an argument to `DataLoader`. This wraps an iterable over our dataset, and supports automatic batching, sampling, shuffling and multiprocess data loading. Here we define a batch size of $64$, i.e. each element in the dataloader iterable will return a batch of $64$ features and labels."
   ]
  },
  {
   "cell_type": "code",
   "execution_count": 3,
   "id": "ea7acd60",
   "metadata": {
    "id": "ea7acd60"
   },
   "outputs": [
    {
     "name": "stdout",
     "output_type": "stream",
     "text": [
      "Shape of X [N, C, H, W]: torch.Size([64, 1, 28, 28])\n",
      "Shape of y: torch.Size([64]) torch.int64\n"
     ]
    }
   ],
   "source": [
    "batch_size = 64\n",
    "\n",
    "# Create data loaders.\n",
    "train_dataloader = DataLoader(training_data, batch_size=batch_size)\n",
    "test_dataloader = DataLoader(test_data, batch_size=batch_size)\n",
    "\n",
    "for X, y in test_dataloader:\n",
    "    print(f\"Shape of X [N, C, H, W]: {X.shape}\")\n",
    "    print(f\"Shape of y: {y.shape} {y.dtype}\")\n",
    "    break"
   ]
  },
  {
   "cell_type": "markdown",
   "id": "3d7af31e",
   "metadata": {
    "id": "3d7af31e"
   },
   "source": [
    "### Creating Models\n",
    "\n",
    "To define a neural network in PyTorch, we create a class that inherits from `nn.Module`. We define the layers of the network in the `__init__` function and specify how data will pass through the network in the forward function."
   ]
  },
  {
   "cell_type": "code",
   "execution_count": 4,
   "id": "5c4f279c",
   "metadata": {
    "id": "5c4f279c"
   },
   "outputs": [
    {
     "name": "stdout",
     "output_type": "stream",
     "text": [
      "Using cpu device\n",
      "ConvNet(\n",
      "  (conv_stack1): Sequential(\n",
      "    (0): Conv2d(1, 16, kernel_size=(7, 7), stride=(1, 1), padding=(3, 3))\n",
      "    (1): ReLU()\n",
      "    (2): MaxPool2d(kernel_size=(2, 2), stride=(2, 2), padding=0, dilation=1, ceil_mode=False)\n",
      "  )\n",
      "  (conv_stack2): Sequential(\n",
      "    (0): Conv2d(16, 32, kernel_size=(7, 7), stride=(1, 1), padding=(1, 1))\n",
      "    (1): ReLU()\n",
      "    (2): MaxPool2d(kernel_size=(2, 2), stride=(2, 2), padding=0, dilation=1, ceil_mode=False)\n",
      "  )\n",
      "  (linear_stack): Sequential(\n",
      "    (0): Flatten(start_dim=1, end_dim=-1)\n",
      "    (1): Linear(in_features=800, out_features=512, bias=True)\n",
      "    (2): ReLU()\n",
      "    (3): Linear(in_features=512, out_features=10, bias=True)\n",
      "  )\n",
      ")\n"
     ]
    }
   ],
   "source": [
    "# Set cpu device for training.\n",
    "device = \"cpu\"\n",
    "print(f\"Using {device} device\")\n",
    "\n",
    "# Define model\n",
    "class ConvNet(nn.Module):\n",
    "    def __init__(self):\n",
    "        super(ConvNet, self).__init__()\n",
    "        self.conv_stack1 = nn.Sequential(\n",
    "            nn.Conv2d(in_channels=1, out_channels=16, kernel_size=(7, 7), padding=3),\n",
    "            nn.ReLU(),\n",
    "            nn.MaxPool2d(kernel_size=(2, 2), stride=(2, 2))\n",
    "        )\n",
    "        self.conv_stack2 = nn.Sequential(\n",
    "            nn.Conv2d(in_channels=16, out_channels=32, kernel_size=(7, 7),padding=1),\n",
    "            nn.ReLU(),\n",
    "            nn.MaxPool2d(kernel_size=(2, 2), stride=(2, 2))\n",
    "        )\n",
    "        self.linear_stack = nn.Sequential(\n",
    "            nn.Flatten(),\n",
    "            nn.Linear(800, 512),\n",
    "            nn.ReLU(),\n",
    "            nn.Linear(512, 10)\n",
    "        )\n",
    "\n",
    "    def forward(self, x):\n",
    "\n",
    "        conv1 = self.conv_stack1(x)\n",
    "        conv2 = self.conv_stack2(conv1)\n",
    "        logits = self.linear_stack(conv2)\n",
    "        return logits\n",
    "\n",
    "model = ConvNet().to(device)\n",
    "print(model)\n"
   ]
  },
  {
   "cell_type": "markdown",
   "id": "bd2296a5",
   "metadata": {
    "id": "bd2296a5"
   },
   "source": [
    "Feel free to play around with the number of channels, filter sizes etc. Make sure, however, that things fit together. For instance, the number of inputs to the first *fully connected* (`Linear`) layer was set to $800$ because $32$ channels $\\times$ $5$ pixels $\\times$ $5$ pixels $=800$. How did we get to $5 \\times 5$ pixels? Note that we have two steps where we have convolution followed by max pooling. There is a neat equation to find the image dimensions after a convolution or pooling operation:\n",
    "\n",
    "$$\n",
    "\\begin{array}{lr}\n",
    "W_o &= \\lfloor \\frac{W_i - F_W + 2 P_W}{S_W} \\rfloor \\\\\n",
    "H_o &= \\lfloor \\frac{H_i - F_H + 2 P_H}{S_H} \\rfloor\n",
    "\\end{array}\n",
    "$$\n",
    "\n",
    "where $W$ and $H$ stand for width and height, respectively; the subscripts $i$ and $o$ reflect input and output dimensions, respectively; $F$ is the filter (kernel) size; $P$ is the zero-padding; $S$ is the stride; and $\\lfloor \\cdot \\rfloor$ denotes the `floor` operation (rounding down). In our example, we are dealing with square images (i.e., $W=H$).\n",
    "\n",
    "Let's trace the sizes of our layers through the two convolution stacks. \n",
    "\n",
    "#### Conv Stack 1\n",
    "We start with a $28 \\times 28$ gray-scale image such that the input image dimensions are $28 \\times 28 \\times 1$. Then we apply convolutions with $16$ different square filters, each of size $F=7$, zero-padding $P=3$ and no stride $(S=1)$. This leads to a dimension of the first convolutional layer of $28 \\times 28 \\times 16$.\n",
    "\n",
    "Then, we apply a pooling operation with $F=2$ (`kernel_size`), $P=0$ and $S=2$. This leads to the following dimension of the pooling layer $14 \\times 14 \\times 16$.\n",
    "\n",
    "#### Conv Stack 2\n",
    "Then, we apply another convolution operation to the pooling layer of the first stack. We apply convolutions with $32$ different square filters, each of size $F=7$, zero-padding $P=1$ and no stride $(S=1)$. This leads to a dimension of the first convolutional layer of $10 \\times 10 \\times 32$.\n",
    "\n",
    "Finally, we apply another pooling operation with $F=2$ (`kernel_size`), $P=0$ and $S=2$. This leads to the following dimension of the second pooling layer $5 \\times 5 \\times 32$.\n"
   ]
  },
  {
   "cell_type": "markdown",
   "id": "c9eb4a4f",
   "metadata": {
    "id": "c9eb4a4f"
   },
   "source": [
    "### Optimizing the Model Parameters\n",
    "\n",
    "To train a model, we need a loss function and an optimizer. I use the stochastic gradient descent (`SGD`). This is not optimal (`Adam` is much better) but useful to illustrate how the network gradually improves with training. Feel free to play around with other optimizers after you finished the session."
   ]
  },
  {
   "cell_type": "code",
   "execution_count": 5,
   "id": "04a888de",
   "metadata": {
    "id": "04a888de"
   },
   "outputs": [],
   "source": [
    "loss_fn = nn.CrossEntropyLoss()\n",
    "optimizer = torch.optim.SGD(model.parameters(), lr=1e-3)"
   ]
  },
  {
   "cell_type": "markdown",
   "id": "02d5a245",
   "metadata": {
    "id": "02d5a245"
   },
   "source": [
    "In a single training loop, the model makes predictions on the training dataset (fed to it in batches), and backpropagates the prediction error to adjust the model’s parameters."
   ]
  },
  {
   "cell_type": "code",
   "execution_count": 6,
   "id": "dffdbf26",
   "metadata": {
    "id": "dffdbf26"
   },
   "outputs": [],
   "source": [
    "def train(dataloader, model, loss_fn, optimizer):\n",
    "    size = len(dataloader.dataset)\n",
    "    model.train()\n",
    "    for batch, (X, y) in enumerate(dataloader):\n",
    "        X, y = X.to(device), y.to(device)\n",
    "\n",
    "        # Compute prediction error\n",
    "        pred = model(X)\n",
    "        loss = loss_fn(pred, y)\n",
    "\n",
    "        # Backpropagation\n",
    "        optimizer.zero_grad()\n",
    "        loss.backward()\n",
    "        optimizer.step()\n",
    "\n",
    "        if batch % 100 == 0:\n",
    "            loss, current = loss.item(), batch * len(X)\n",
    "            print(f\"loss: {loss:>7f}  [{current:>5d}/{size:>5d}]\")"
   ]
  },
  {
   "cell_type": "markdown",
   "id": "f58ac2c8",
   "metadata": {
    "id": "f58ac2c8"
   },
   "source": [
    "We also check the model’s performance against the test dataset to ensure it is learning."
   ]
  },
  {
   "cell_type": "code",
   "execution_count": 7,
   "id": "243561c3",
   "metadata": {
    "id": "243561c3"
   },
   "outputs": [],
   "source": [
    "def test(dataloader, model, loss_fn):\n",
    "    size = len(dataloader.dataset)\n",
    "    num_batches = len(dataloader)\n",
    "    model.eval()\n",
    "    test_loss, correct = 0, 0\n",
    "    with torch.no_grad():\n",
    "        for X, y in dataloader:\n",
    "            X, y = X.to(device), y.to(device)\n",
    "            pred = model(X)\n",
    "            test_loss += loss_fn(pred, y).item()\n",
    "            correct += (pred.argmax(1) == y).type(torch.float).sum().item()\n",
    "    test_loss /= num_batches\n",
    "    correct /= size\n",
    "    print(f\"Test Error: \\n Accuracy: {(100*correct):>0.1f}%, Avg loss: {test_loss:>8f} \\n\")"
   ]
  },
  {
   "cell_type": "markdown",
   "id": "d7b622ae",
   "metadata": {
    "id": "d7b622ae"
   },
   "source": [
    "The training process is conducted over several iterations (*epochs*). During each epoch, the model learns parameters to make better predictions. We print the model’s accuracy and loss at each epoch; we’d like to see the accuracy increase and the loss decrease with every epoch."
   ]
  },
  {
   "cell_type": "code",
   "execution_count": 8,
   "id": "757827a7",
   "metadata": {
    "id": "757827a7"
   },
   "outputs": [
    {
     "name": "stdout",
     "output_type": "stream",
     "text": [
      "Epoch 1\n",
      "-------------------------------\n",
      "loss: 2.301846  [    0/60000]\n",
      "loss: 2.297882  [ 6400/60000]\n",
      "loss: 2.295098  [12800/60000]\n",
      "loss: 2.293482  [19200/60000]\n",
      "loss: 2.292111  [25600/60000]\n",
      "loss: 2.285232  [32000/60000]\n",
      "loss: 2.286596  [38400/60000]\n",
      "loss: 2.279204  [44800/60000]\n",
      "loss: 2.273796  [51200/60000]\n",
      "loss: 2.264827  [57600/60000]\n",
      "Test Error: \n",
      " Accuracy: 17.1%, Avg loss: 2.262593 \n",
      "\n",
      "Epoch 2\n",
      "-------------------------------\n",
      "loss: 2.266171  [    0/60000]\n",
      "loss: 2.259906  [ 6400/60000]\n",
      "loss: 2.237513  [12800/60000]\n",
      "loss: 2.236607  [19200/60000]\n",
      "loss: 2.230272  [25600/60000]\n",
      "loss: 2.170287  [32000/60000]\n",
      "loss: 2.184335  [38400/60000]\n",
      "loss: 2.107004  [44800/60000]\n",
      "loss: 2.093964  [51200/60000]\n",
      "loss: 1.997456  [57600/60000]\n",
      "Test Error: \n",
      " Accuracy: 45.2%, Avg loss: 1.953361 \n",
      "\n",
      "Epoch 3\n",
      "-------------------------------\n",
      "loss: 1.997707  [    0/60000]\n",
      "loss: 1.876222  [ 6400/60000]\n",
      "loss: 1.646515  [12800/60000]\n",
      "loss: 1.586560  [19200/60000]\n",
      "loss: 1.355903  [25600/60000]\n",
      "loss: 1.267558  [32000/60000]\n",
      "loss: 1.222349  [38400/60000]\n",
      "loss: 1.092011  [44800/60000]\n",
      "loss: 1.131709  [51200/60000]\n",
      "loss: 1.046974  [57600/60000]\n",
      "Test Error: \n",
      " Accuracy: 64.5%, Avg loss: 1.008209 \n",
      "\n",
      "Epoch 4\n",
      "-------------------------------\n",
      "loss: 1.085025  [    0/60000]\n",
      "loss: 1.077521  [ 6400/60000]\n",
      "loss: 0.830991  [12800/60000]\n",
      "loss: 0.992877  [19200/60000]\n",
      "loss: 0.859593  [25600/60000]\n",
      "loss: 0.895157  [32000/60000]\n",
      "loss: 0.914368  [38400/60000]\n",
      "loss: 0.854656  [44800/60000]\n",
      "loss: 0.893824  [51200/60000]\n",
      "loss: 0.924452  [57600/60000]\n",
      "Test Error: \n",
      " Accuracy: 68.3%, Avg loss: 0.858225 \n",
      "\n",
      "Epoch 5\n",
      "-------------------------------\n",
      "loss: 0.886017  [    0/60000]\n",
      "loss: 0.961040  [ 6400/60000]\n",
      "loss: 0.688066  [12800/60000]\n",
      "loss: 0.917679  [19200/60000]\n",
      "loss: 0.793383  [25600/60000]\n",
      "loss: 0.808132  [32000/60000]\n",
      "loss: 0.834445  [38400/60000]\n",
      "loss: 0.799730  [44800/60000]\n",
      "loss: 0.813915  [51200/60000]\n",
      "loss: 0.880003  [57600/60000]\n",
      "Test Error: \n",
      " Accuracy: 70.0%, Avg loss: 0.802851 \n",
      "\n",
      "Done!\n"
     ]
    }
   ],
   "source": [
    "epochs = 5\n",
    "for t in range(epochs):\n",
    "    print(f\"Epoch {t+1}\\n-------------------------------\")\n",
    "    train(train_dataloader, model, loss_fn, optimizer)\n",
    "    test(test_dataloader, model, loss_fn)\n",
    "print(\"Done!\")"
   ]
  },
  {
   "cell_type": "markdown",
   "id": "00f8f29e",
   "metadata": {
    "id": "00f8f29e"
   },
   "source": [
    "### Define Custom Activation Function\n",
    "To eventually make the CNN spiking, you cannot use any of the standard activation functions. Instead, you need to define your own activation function based on the F-I (frequency-current) curve of the leaky integrate and fire neuron. Fortunately, defining a custom activation function for PyTorch is (*almost*) as a simple as defining a Python function. The only additional step is to create a class wrapper from PyTorch `nn.Module` to make sure PyTorch can use the function. Also, make sure to use `torch` (rather than e.g. NumPy) operations in your function definition.\n",
    "\n",
    "As an example, we wil implement the sigmoid linear unit (SiLU):\n",
    "\n",
    "$$\n",
    "f(x) = \\frac{x}{1+e^{-x}} = x \\cdot \\sigma (x)\n",
    "$$\n",
    "\n",
    "where $\\sigma (\\cdot)$ is the sigmoid activation function.\n"
   ]
  },
  {
   "cell_type": "code",
   "execution_count": 9,
   "id": "db1a5b6f",
   "metadata": {
    "id": "db1a5b6f"
   },
   "outputs": [],
   "source": [
    "# activation function\n",
    "def silu(x):\n",
    "    '''\n",
    "    Applies the Sigmoid Linear Unit (SiLU) function element-wise\n",
    "    '''\n",
    "    return torch.sigmoid(x) * x\n",
    "\n",
    "\n",
    "# class wrapper\n",
    "class SiLU(nn.Module):\n",
    "    '''\n",
    "    Shape:\n",
    "        - Input: (N, *) where * means, any number of additional\n",
    "          dimensions\n",
    "        - Output: (N, *), same shape as the input\n",
    "    '''\n",
    "    def __init__(self):\n",
    "        super().__init__() # init the base class\n",
    "\n",
    "    def forward(self, x):\n",
    "        return silu(x)"
   ]
  },
  {
   "cell_type": "markdown",
   "id": "fde3642b",
   "metadata": {
    "id": "fde3642b"
   },
   "source": [
    "The code below utilizes this function in a CNN."
   ]
  },
  {
   "cell_type": "code",
   "execution_count": 10,
   "id": "60036385",
   "metadata": {
    "id": "60036385"
   },
   "outputs": [
    {
     "name": "stdout",
     "output_type": "stream",
     "text": [
      "SiLUNet(\n",
      "  (silu): SiLU()\n",
      "  (conv_stack1): Sequential(\n",
      "    (0): Conv2d(1, 16, kernel_size=(7, 7), stride=(1, 1), padding=(3, 3))\n",
      "    (1): SiLU()\n",
      "    (2): MaxPool2d(kernel_size=(2, 2), stride=(2, 2), padding=0, dilation=1, ceil_mode=False)\n",
      "  )\n",
      "  (conv_stack2): Sequential(\n",
      "    (0): Conv2d(16, 32, kernel_size=(7, 7), stride=(1, 1), padding=(1, 1))\n",
      "    (1): SiLU()\n",
      "    (2): MaxPool2d(kernel_size=(2, 2), stride=(2, 2), padding=0, dilation=1, ceil_mode=False)\n",
      "  )\n",
      "  (linear_stack): Sequential(\n",
      "    (0): Flatten(start_dim=1, end_dim=-1)\n",
      "    (1): Linear(in_features=800, out_features=512, bias=True)\n",
      "    (2): SiLU()\n",
      "    (3): Linear(in_features=512, out_features=10, bias=True)\n",
      "  )\n",
      ")\n"
     ]
    }
   ],
   "source": [
    "# Define model\n",
    "class SiLUNet(nn.Module):\n",
    "    def __init__(self):\n",
    "        super(SiLUNet, self).__init__()\n",
    "        self.silu = SiLU()\n",
    "        self.conv_stack1 = nn.Sequential(\n",
    "            nn.Conv2d(in_channels=1, out_channels=16, kernel_size=(7, 7), padding=3),\n",
    "            self.silu,\n",
    "            nn.MaxPool2d(kernel_size=(2, 2), stride=(2, 2))\n",
    "        )\n",
    "        self.conv_stack2 = nn.Sequential(\n",
    "            nn.Conv2d(in_channels=16, out_channels=32, kernel_size=(7, 7),padding=1),\n",
    "            self.silu,\n",
    "            nn.MaxPool2d(kernel_size=(2, 2), stride=(2, 2))\n",
    "        )\n",
    "        self.linear_stack = nn.Sequential(\n",
    "            nn.Flatten(),\n",
    "            nn.Linear(800, 512),\n",
    "            self.silu,\n",
    "            nn.Linear(512, 10)\n",
    "        )\n",
    "\n",
    "    def forward(self, x):\n",
    "\n",
    "        conv1 = self.conv_stack1(x)\n",
    "        conv2 = self.conv_stack2(conv1)\n",
    "        logits = self.linear_stack(conv2)\n",
    "        return logits\n",
    "\n",
    "silu_model = SiLUNet().to(device)\n",
    "print(silu_model)"
   ]
  },
  {
   "cell_type": "markdown",
   "id": "95ae10b7",
   "metadata": {
    "id": "95ae10b7"
   },
   "source": [
    "Let's train our newly defined `SiLUNet` on the same classification task as before."
   ]
  },
  {
   "cell_type": "code",
   "execution_count": 11,
   "id": "06c63f70",
   "metadata": {
    "id": "06c63f70"
   },
   "outputs": [
    {
     "name": "stdout",
     "output_type": "stream",
     "text": [
      "Epoch 1\n",
      "-------------------------------\n",
      "loss: 2.306650  [    0/60000]\n",
      "loss: 2.305785  [ 6400/60000]\n",
      "loss: 2.302583  [12800/60000]\n",
      "loss: 2.299623  [19200/60000]\n",
      "loss: 2.299610  [25600/60000]\n",
      "loss: 2.298530  [32000/60000]\n",
      "loss: 2.300873  [38400/60000]\n",
      "loss: 2.298123  [44800/60000]\n",
      "loss: 2.299366  [51200/60000]\n",
      "loss: 2.299557  [57600/60000]\n",
      "Test Error: \n",
      " Accuracy: 14.8%, Avg loss: 2.297258 \n",
      "\n",
      "Epoch 2\n",
      "-------------------------------\n",
      "loss: 2.301219  [    0/60000]\n",
      "loss: 2.300522  [ 6400/60000]\n",
      "loss: 2.296033  [12800/60000]\n",
      "loss: 2.294771  [19200/60000]\n",
      "loss: 2.294486  [25600/60000]\n",
      "loss: 2.291322  [32000/60000]\n",
      "loss: 2.295756  [38400/60000]\n",
      "loss: 2.290523  [44800/60000]\n",
      "loss: 2.291809  [51200/60000]\n",
      "loss: 2.293366  [57600/60000]\n",
      "Test Error: \n",
      " Accuracy: 24.0%, Avg loss: 2.289377 \n",
      "\n",
      "Epoch 3\n",
      "-------------------------------\n",
      "loss: 2.292804  [    0/60000]\n",
      "loss: 2.291987  [ 6400/60000]\n",
      "loss: 2.284536  [12800/60000]\n",
      "loss: 2.286173  [19200/60000]\n",
      "loss: 2.285003  [25600/60000]\n",
      "loss: 2.275975  [32000/60000]\n",
      "loss: 2.285831  [38400/60000]\n",
      "loss: 2.272914  [44800/60000]\n",
      "loss: 2.274175  [51200/60000]\n",
      "loss: 2.278593  [57600/60000]\n",
      "Test Error: \n",
      " Accuracy: 25.7%, Avg loss: 2.268606 \n",
      "\n",
      "Epoch 4\n",
      "-------------------------------\n",
      "loss: 2.271153  [    0/60000]\n",
      "loss: 2.268414  [ 6400/60000]\n",
      "loss: 2.248175  [12800/60000]\n",
      "loss: 2.257455  [19200/60000]\n",
      "loss: 2.251026  [25600/60000]\n",
      "loss: 2.207653  [32000/60000]\n",
      "loss: 2.242316  [38400/60000]\n",
      "loss: 2.178525  [44800/60000]\n",
      "loss: 2.183430  [51200/60000]\n",
      "loss: 2.170139  [57600/60000]\n",
      "Test Error: \n",
      " Accuracy: 28.4%, Avg loss: 2.120483 \n",
      "\n",
      "Epoch 5\n",
      "-------------------------------\n",
      "loss: 2.135346  [    0/60000]\n",
      "loss: 2.086622  [ 6400/60000]\n",
      "loss: 1.917129  [12800/60000]\n",
      "loss: 1.894559  [19200/60000]\n",
      "loss: 1.665261  [25600/60000]\n",
      "loss: 1.461069  [32000/60000]\n",
      "loss: 1.428138  [38400/60000]\n",
      "loss: 1.213397  [44800/60000]\n",
      "loss: 1.201173  [51200/60000]\n",
      "loss: 1.099168  [57600/60000]\n",
      "Test Error: \n",
      " Accuracy: 64.1%, Avg loss: 1.051565 \n",
      "\n",
      "Done!\n"
     ]
    }
   ],
   "source": [
    "silu_optimizer = torch.optim.SGD(silu_model.parameters(), lr=1e-3)\n",
    "\n",
    "epochs = 5\n",
    "for t in range(epochs):\n",
    "    print(f\"Epoch {t+1}\\n-------------------------------\")\n",
    "    train(train_dataloader, silu_model, loss_fn, silu_optimizer)\n",
    "    test(test_dataloader, silu_model, loss_fn)\n",
    "print(\"Done!\")"
   ]
  },
  {
   "cell_type": "markdown",
   "id": "04426410",
   "metadata": {
    "id": "04426410"
   },
   "source": [
    "## Task 1 - (50 points)\n",
    "Create a custom LIF activation function. Be careful to include all neuron parameters required for the activation function. For numerical stability, it might be helpful to add a small value (e.g. $10^{-20}$) to the $\\rho ( \\cdot )$ function (defined in the section entitled *Spiking Activation Function* above).\n",
    "\n",
    "$$\n",
    "\\left[ \\begin{array}{lr}\n",
    "\\tau_m & = 0.02 \\text{s} \\\\\n",
    "\\tau_{ref} & = 0.004 \\text{s} \\\\\n",
    "V_{thr} & = 1 \\text{mV}\n",
    "\\end{array} \\right]\n",
    "$$\n"
   ]
  },
  {
   "cell_type": "markdown",
   "id": "48256b4e-422b-484f-9cfa-c6cedc670006",
   "metadata": {},
   "source": [
    "The LIF steady state firing rate has the particular problem that its derivative approaches infinity as $I$ approaches zero from above. This causes problems when employing backpropagation but can be addressed by slightly adjusting the firing rate equation to smooth it out. The equation above can be re-written like this:\n",
    "\n",
    "$$\n",
    "G \\left( I \\right) = \\left[ \\tau_{ref} + \\tau_m \\ln \\left( 1 + \\frac{V_{thr}}{\\rho \\left( I - V_{thr} \\right)} \\right) \\right]^{-1}\n",
    "$$\n",
    "\n",
    "where $\\rho (x) = \\max(x,0)$. If we replace this hard maximum with a softer maximum $\\rho (x) = \\ln\\left( 1 + e^x  \\right)$, then the LIF neuron loses its hard threshold and the derivative becomes bounded. This will be the LIF-based activation function for our spiking DNN."
   ]
  },
  {
   "cell_type": "code",
   "execution_count": 20,
   "id": "fb8f43cf-da3d-465e-8f90-ab9b06a75b9a",
   "metadata": {},
   "outputs": [],
   "source": [
    "import math"
   ]
  },
  {
   "cell_type": "code",
   "execution_count": 46,
   "id": "621f797a-9857-4823-a6a9-2fac17f8fa1e",
   "metadata": {},
   "outputs": [],
   "source": [
    "t_m = 0.02 #s\n",
    "t_ref = 0.004 #s\n",
    "V_thr = 1 # mV"
   ]
  },
  {
   "cell_type": "code",
   "execution_count": 85,
   "id": "42b31c39-39a2-4b22-b6dc-2b796fb23dfd",
   "metadata": {},
   "outputs": [],
   "source": [
    "def rho(x):\n",
    "    return torch.log(1+torch.exp(x)) #+ 1e-5"
   ]
  },
  {
   "cell_type": "code",
   "execution_count": 98,
   "id": "4f30ac0b-75e2-419c-812c-d40d8de1d377",
   "metadata": {},
   "outputs": [
    {
     "data": {
      "text/plain": [
       "tensor([[45.7414, 20.9764],\n",
       "        [45.7414, 20.9764]])"
      ]
     },
     "execution_count": 98,
     "metadata": {},
     "output_type": "execute_result"
    }
   ],
   "source": [
    "lif(torch.tensor([[1., -1.], [1., -1.]]))"
   ]
  },
  {
   "cell_type": "code",
   "execution_count": 94,
   "id": "2ffa28c2",
   "metadata": {
    "id": "2ffa28c2"
   },
   "outputs": [],
   "source": [
    "# activation function\n",
    "def lif(x):\n",
    "    '''\n",
    "    lif\n",
    "    '''\n",
    "    return 1/(0.004 + 0.02*torch.log(1 + (1/rho(x - 1))))\n",
    "    #return 1/(t_ref + t_m * torch.log(1 + (V_thr/rho(x - V_thr))))\n",
    "    #torch.div(torch.tensor([1.]), (t_ref + t_m * torch.log(1 + (V_thr/rho(x - V_thr)))))\n",
    "\n",
    "\n",
    "# class wrapper\n",
    "class lif_wrapper(nn.Module):\n",
    "    '''\n",
    "    Shape:\n",
    "        - Input: (N, *) where * means, any number of additional\n",
    "          dimensions\n",
    "        - Output: (N, *), same shape as the input\n",
    "    '''\n",
    "    def __init__(self):\n",
    "        super().__init__() # init the base class\n",
    "\n",
    "    def forward(self, x):\n",
    "        return lif(x)"
   ]
  },
  {
   "cell_type": "markdown",
   "id": "36592d86",
   "metadata": {
    "id": "36592d86"
   },
   "source": [
    "## Task 2 - (50 points)\n",
    "Create a convolutional neural network that utilizes the LIF activation function for the **first** convolutional layer and train the network to classify the fashion MNIST data set. \n",
    "\n",
    "Note that the LIF activation function can produce quite large values. This is the reason why we only use it in the first convolutional layer (you can choose either the ReLU or SiLU for the other layers) $\\rightarrow$ gradient descent becomes unstable with too many LIF neurons! Even a single layer with a LIF activation function will render this network harder to train than the ones before, so you likely have to adjust the learning rate."
   ]
  },
  {
   "cell_type": "code",
   "execution_count": 100,
   "id": "a216cdd8-ae06-4792-8b69-49d65666f783",
   "metadata": {},
   "outputs": [
    {
     "name": "stdout",
     "output_type": "stream",
     "text": [
      "SiLU_LIF_Net(\n",
      "  (silu): SiLU()\n",
      "  (lif): lif_wrapper()\n",
      "  (conv_stack1): Sequential(\n",
      "    (0): Conv2d(1, 16, kernel_size=(7, 7), stride=(1, 1), padding=(3, 3))\n",
      "    (1): lif_wrapper()\n",
      "    (2): MaxPool2d(kernel_size=(2, 2), stride=(2, 2), padding=0, dilation=1, ceil_mode=False)\n",
      "  )\n",
      "  (conv_stack2): Sequential(\n",
      "    (0): Conv2d(16, 32, kernel_size=(7, 7), stride=(1, 1), padding=(1, 1))\n",
      "    (1): ReLU()\n",
      "    (2): MaxPool2d(kernel_size=(2, 2), stride=(2, 2), padding=0, dilation=1, ceil_mode=False)\n",
      "  )\n",
      "  (linear_stack): Sequential(\n",
      "    (0): Flatten(start_dim=1, end_dim=-1)\n",
      "    (1): Linear(in_features=800, out_features=512, bias=True)\n",
      "    (2): ReLU()\n",
      "    (3): Linear(in_features=512, out_features=10, bias=True)\n",
      "  )\n",
      ")\n"
     ]
    }
   ],
   "source": [
    "# Define model\n",
    "class SiLU_LIF_Net(nn.Module):\n",
    "    def __init__(self):\n",
    "        super(SiLU_LIF_Net, self).__init__()\n",
    "        self.silu = SiLU()\n",
    "        self.lif = lif_wrapper()\n",
    "        self.conv_stack1 = nn.Sequential(\n",
    "            nn.Conv2d(in_channels=1, out_channels=16, kernel_size=(7, 7), padding=3),\n",
    "            self.lif,\n",
    "            nn.MaxPool2d(kernel_size=(2, 2), stride=(2, 2))\n",
    "        )\n",
    "        self.conv_stack2 = nn.Sequential(\n",
    "            nn.Conv2d(in_channels=16, out_channels=32, kernel_size=(7, 7),padding=1),\n",
    "            nn.ReLU(),\n",
    "            nn.MaxPool2d(kernel_size=(2, 2), stride=(2, 2))\n",
    "        )\n",
    "        self.linear_stack = nn.Sequential(\n",
    "            nn.Flatten(),\n",
    "            nn.Linear(800, 512),\n",
    "            nn.ReLU(),\n",
    "            nn.Linear(512, 10)\n",
    "        )\n",
    "\n",
    "    def forward(self, x):\n",
    "\n",
    "        conv1 = self.conv_stack1(x)\n",
    "        conv2 = self.conv_stack2(conv1)\n",
    "        logits = self.linear_stack(conv2)\n",
    "        return logits\n",
    "\n",
    "silu_lif_model = SiLU_LIF_Net().to(device)\n",
    "print(silu_lif_model)"
   ]
  },
  {
   "cell_type": "code",
   "execution_count": 101,
   "id": "869e6854",
   "metadata": {
    "id": "869e6854"
   },
   "outputs": [
    {
     "name": "stdout",
     "output_type": "stream",
     "text": [
      "Epoch 1\n",
      "-------------------------------\n",
      "loss: 6.330668  [    0/60000]\n",
      "loss: 2.257583  [ 6400/60000]\n",
      "loss: 2.136937  [12800/60000]\n",
      "loss: 1.734669  [19200/60000]\n",
      "loss: 1.157252  [25600/60000]\n",
      "loss: 1.033306  [32000/60000]\n",
      "loss: 0.871836  [38400/60000]\n",
      "loss: 0.812647  [44800/60000]\n",
      "loss: 0.857207  [51200/60000]\n",
      "loss: 0.775544  [57600/60000]\n",
      "Test Error: \n",
      " Accuracy: 71.4%, Avg loss: 0.764186 \n",
      "\n",
      "Epoch 2\n",
      "-------------------------------\n",
      "loss: 0.678191  [    0/60000]\n",
      "loss: 0.724236  [ 6400/60000]\n",
      "loss: 0.535484  [12800/60000]\n",
      "loss: 0.754124  [19200/60000]\n",
      "loss: 0.860079  [25600/60000]\n",
      "loss: 0.770554  [32000/60000]\n",
      "loss: 0.710119  [38400/60000]\n",
      "loss: 0.663255  [44800/60000]\n",
      "loss: 0.756116  [51200/60000]\n",
      "loss: 0.648824  [57600/60000]\n",
      "Test Error: \n",
      " Accuracy: 74.8%, Avg loss: 0.674042 \n",
      "\n",
      "Epoch 3\n",
      "-------------------------------\n",
      "loss: 0.577616  [    0/60000]\n",
      "loss: 0.653825  [ 6400/60000]\n",
      "loss: 0.449978  [12800/60000]\n",
      "loss: 0.660072  [19200/60000]\n",
      "loss: 0.795619  [25600/60000]\n",
      "loss: 0.706546  [32000/60000]\n",
      "loss: 0.638035  [38400/60000]\n",
      "loss: 0.623724  [44800/60000]\n",
      "loss: 0.712947  [51200/60000]\n",
      "loss: 0.564890  [57600/60000]\n",
      "Test Error: \n",
      " Accuracy: 77.0%, Avg loss: 0.612411 \n",
      "\n",
      "Epoch 4\n",
      "-------------------------------\n",
      "loss: 0.525317  [    0/60000]\n",
      "loss: 0.619077  [ 6400/60000]\n",
      "loss: 0.413742  [12800/60000]\n",
      "loss: 0.605895  [19200/60000]\n",
      "loss: 0.745005  [25600/60000]\n",
      "loss: 0.641458  [32000/60000]\n",
      "loss: 0.590672  [38400/60000]\n",
      "loss: 0.610696  [44800/60000]\n",
      "loss: 0.657141  [51200/60000]\n",
      "loss: 0.517692  [57600/60000]\n",
      "Test Error: \n",
      " Accuracy: 78.6%, Avg loss: 0.572133 \n",
      "\n",
      "Epoch 5\n",
      "-------------------------------\n",
      "loss: 0.475261  [    0/60000]\n",
      "loss: 0.580413  [ 6400/60000]\n",
      "loss: 0.386464  [12800/60000]\n",
      "loss: 0.571790  [19200/60000]\n",
      "loss: 0.703888  [25600/60000]\n",
      "loss: 0.594901  [32000/60000]\n",
      "loss: 0.546418  [38400/60000]\n",
      "loss: 0.605517  [44800/60000]\n",
      "loss: 0.626992  [51200/60000]\n",
      "loss: 0.477533  [57600/60000]\n",
      "Test Error: \n",
      " Accuracy: 80.3%, Avg loss: 0.540200 \n",
      "\n",
      "Done!\n"
     ]
    }
   ],
   "source": [
    "silu_lif_optimizer = torch.optim.SGD(silu_lif_model.parameters(), lr=1e-3)\n",
    "\n",
    "epochs = 5\n",
    "for t in range(epochs):\n",
    "    print(f\"Epoch {t+1}\\n-------------------------------\")\n",
    "    train(train_dataloader, silu_lif_model, loss_fn, silu_lif_optimizer)\n",
    "    test(test_dataloader, silu_lif_model, loss_fn)\n",
    "print(\"Done!\")"
   ]
  }
 ],
 "metadata": {
  "colab": {
   "provenance": []
  },
  "kernelspec": {
   "display_name": "Python [conda env:pytorch_env]",
   "language": "python",
   "name": "conda-env-pytorch_env-py"
  },
  "language_info": {
   "codemirror_mode": {
    "name": "ipython",
    "version": 3
   },
   "file_extension": ".py",
   "mimetype": "text/x-python",
   "name": "python",
   "nbconvert_exporter": "python",
   "pygments_lexer": "ipython3",
   "version": "3.10.4"
  }
 },
 "nbformat": 4,
 "nbformat_minor": 5
}
